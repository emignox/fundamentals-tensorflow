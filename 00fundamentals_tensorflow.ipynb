{
  "nbformat": 4,
  "nbformat_minor": 0,
  "metadata": {
    "colab": {
      "provenance": [],
      "gpuType": "T4",
      "authorship_tag": "ABX9TyMOLv4ZHTd09hj85D75FLEY",
      "include_colab_link": true
    },
    "kernelspec": {
      "name": "python3",
      "display_name": "Python 3"
    },
    "language_info": {
      "name": "python"
    },
    "accelerator": "GPU"
  },
  "cells": [
    {
      "cell_type": "markdown",
      "metadata": {
        "id": "view-in-github",
        "colab_type": "text"
      },
      "source": [
        "<a href=\"https://colab.research.google.com/github/emignox/fundamentals-tensorflow/blob/main/00fundamentals_tensorflow.ipynb\" target=\"_parent\"><img src=\"https://colab.research.google.com/assets/colab-badge.svg\" alt=\"Open In Colab\"/></a>"
      ]
    },
    {
      "cell_type": "code",
      "source": [
        "#import tensorFlow\n",
        "import tensorflow as tf\n",
        "print(tf.__version__)"
      ],
      "metadata": {
        "colab": {
          "base_uri": "https://localhost:8080/"
        },
        "id": "Ah5TfNVaepoC",
        "outputId": "f6fc84ef-6684-4647-d768-73eff82519ad"
      },
      "execution_count": null,
      "outputs": [
        {
          "output_type": "stream",
          "name": "stdout",
          "text": [
            "2.15.0\n"
          ]
        }
      ]
    },
    {
      "cell_type": "code",
      "source": [
        "# create tensor with tf.constant\n",
        "scalar  = tf.constant(7)\n",
        "scalar"
      ],
      "metadata": {
        "colab": {
          "base_uri": "https://localhost:8080/"
        },
        "id": "5PJg8lihfAED",
        "outputId": "69cd859a-df81-4413-85f7-730cd0edaf66"
      },
      "execution_count": null,
      "outputs": [
        {
          "output_type": "execute_result",
          "data": {
            "text/plain": [
              "<tf.Tensor: shape=(), dtype=int32, numpy=7>"
            ]
          },
          "metadata": {},
          "execution_count": 2
        }
      ]
    },
    {
      "cell_type": "code",
      "source": [
        "#number of dimensions of a tensor\n",
        "scalar.ndim"
      ],
      "metadata": {
        "colab": {
          "base_uri": "https://localhost:8080/"
        },
        "id": "e51vEWy4fl1r",
        "outputId": "1a002a15-5329-455d-c1fc-e8b09e98e904"
      },
      "execution_count": null,
      "outputs": [
        {
          "output_type": "execute_result",
          "data": {
            "text/plain": [
              "0"
            ]
          },
          "metadata": {},
          "execution_count": 3
        }
      ]
    },
    {
      "cell_type": "code",
      "source": [
        "vector = tf.constant ([10,10])\n",
        "vector"
      ],
      "metadata": {
        "colab": {
          "base_uri": "https://localhost:8080/"
        },
        "id": "Qjbam1Nefv0l",
        "outputId": "3acf8823-be16-4353-8ca9-6af2adcfe897"
      },
      "execution_count": null,
      "outputs": [
        {
          "output_type": "execute_result",
          "data": {
            "text/plain": [
              "<tf.Tensor: shape=(2,), dtype=int32, numpy=array([10, 10], dtype=int32)>"
            ]
          },
          "metadata": {},
          "execution_count": 4
        }
      ]
    },
    {
      "cell_type": "code",
      "source": [
        "# check dimension of our vector\n",
        "vector.ndim"
      ],
      "metadata": {
        "colab": {
          "base_uri": "https://localhost:8080/"
        },
        "id": "AGDne85Ef6mD",
        "outputId": "7a95fc52-626f-45a3-fef2-4c8ac1349b80"
      },
      "execution_count": null,
      "outputs": [
        {
          "output_type": "execute_result",
          "data": {
            "text/plain": [
              "1"
            ]
          },
          "metadata": {},
          "execution_count": 5
        }
      ]
    },
    {
      "cell_type": "code",
      "source": [
        "#create a metrix has more than 1 dimension\n",
        "matrix = tf.constant([[10,7],[7,10]])\n",
        "matrix"
      ],
      "metadata": {
        "colab": {
          "base_uri": "https://localhost:8080/"
        },
        "id": "iTsGkU01gCjX",
        "outputId": "3e75b37d-2fe8-41bb-d40f-466148697fba"
      },
      "execution_count": null,
      "outputs": [
        {
          "output_type": "execute_result",
          "data": {
            "text/plain": [
              "<tf.Tensor: shape=(2, 2), dtype=int32, numpy=\n",
              "array([[10,  7],\n",
              "       [ 7, 10]], dtype=int32)>"
            ]
          },
          "metadata": {},
          "execution_count": 6
        }
      ]
    },
    {
      "cell_type": "code",
      "source": [
        "matrix.ndim"
      ],
      "metadata": {
        "colab": {
          "base_uri": "https://localhost:8080/"
        },
        "id": "iMwVB4QtgZSs",
        "outputId": "95914990-b4b2-4fce-92b3-97cc838b6195"
      },
      "execution_count": null,
      "outputs": [
        {
          "output_type": "execute_result",
          "data": {
            "text/plain": [
              "2"
            ]
          },
          "metadata": {},
          "execution_count": 7
        }
      ]
    },
    {
      "cell_type": "code",
      "source": [
        "#create another matrix\n",
        "another_matrix = tf.constant([[10.,7.],[3.,2.],\n",
        "                              [8.,9.]],dtype=tf.float16)\n",
        "another_matrix\n",
        "#specify the data type  with dtype parameter"
      ],
      "metadata": {
        "colab": {
          "base_uri": "https://localhost:8080/"
        },
        "id": "WAokJKgYgnK0",
        "outputId": "58cc724b-5e64-488c-89fb-13e818c4091d"
      },
      "execution_count": null,
      "outputs": [
        {
          "output_type": "execute_result",
          "data": {
            "text/plain": [
              "<tf.Tensor: shape=(3, 2), dtype=float16, numpy=\n",
              "array([[10.,  7.],\n",
              "       [ 3.,  2.],\n",
              "       [ 8.,  9.]], dtype=float16)>"
            ]
          },
          "metadata": {},
          "execution_count": 8
        }
      ]
    },
    {
      "cell_type": "code",
      "source": [
        "#number of dimension\n",
        "another_matrix.ndim"
      ],
      "metadata": {
        "colab": {
          "base_uri": "https://localhost:8080/"
        },
        "id": "MuJKXneVhb9F",
        "outputId": "9c5f4dd6-5d3c-4259-a75b-b6f7f73188e5"
      },
      "execution_count": null,
      "outputs": [
        {
          "output_type": "execute_result",
          "data": {
            "text/plain": [
              "2"
            ]
          },
          "metadata": {},
          "execution_count": 9
        }
      ]
    },
    {
      "cell_type": "code",
      "source": [
        "# let's create a tensor\n",
        "tensor = tf.constant([[[1,2,3],[4,5,6]],[[7,8,9],[10,11,12]],[[13,14,15],[16,17,18]]])\n",
        "tensor"
      ],
      "metadata": {
        "colab": {
          "base_uri": "https://localhost:8080/"
        },
        "id": "Quh3ylFLhv1W",
        "outputId": "8126c26f-7618-48ad-847d-ef87b57975c7"
      },
      "execution_count": null,
      "outputs": [
        {
          "output_type": "execute_result",
          "data": {
            "text/plain": [
              "<tf.Tensor: shape=(3, 2, 3), dtype=int32, numpy=\n",
              "array([[[ 1,  2,  3],\n",
              "        [ 4,  5,  6]],\n",
              "\n",
              "       [[ 7,  8,  9],\n",
              "        [10, 11, 12]],\n",
              "\n",
              "       [[13, 14, 15],\n",
              "        [16, 17, 18]]], dtype=int32)>"
            ]
          },
          "metadata": {},
          "execution_count": 10
        }
      ]
    },
    {
      "cell_type": "code",
      "source": [
        "tensor.ndim"
      ],
      "metadata": {
        "colab": {
          "base_uri": "https://localhost:8080/"
        },
        "id": "XRcpv5tNi0zh",
        "outputId": "f86cb59d-40dc-4ce9-c9c2-23a3b61f3e21"
      },
      "execution_count": null,
      "outputs": [
        {
          "output_type": "execute_result",
          "data": {
            "text/plain": [
              "3"
            ]
          },
          "metadata": {},
          "execution_count": 11
        }
      ]
    },
    {
      "cell_type": "markdown",
      "source": [
        "what we create so far:\n",
        "*  scalar : a single number\n",
        "* vector : a number with direction (e.g wind speed and direction)\n",
        "* matrix: a 2 dimensional array of numbers\n",
        "* tensor:an n dimensional array of numbes (wher en can be any number,\n",
        "                                          a 0-dimensional tensor is a scalar , a 1-dimensional tensoro is vector)"
      ],
      "metadata": {
        "id": "RTTHTb7ni8PC"
      }
    },
    {
      "cell_type": "code",
      "source": [
        "#create the same tensor  with a tf.variable\n",
        "changeable_tensor = tf.Variable([10,7]) # deve essere scritto con V maiuscola variable\n",
        "unchangeble_tensor = tf.constant ([10,7])\n",
        "changeable_tensor,unchangeble_tensor"
      ],
      "metadata": {
        "colab": {
          "base_uri": "https://localhost:8080/"
        },
        "id": "-gBCm4P_kUT3",
        "outputId": "382f2fc9-4f10-4c2a-b866-770a0faa15d7"
      },
      "execution_count": null,
      "outputs": [
        {
          "output_type": "execute_result",
          "data": {
            "text/plain": [
              "(<tf.Variable 'Variable:0' shape=(2,) dtype=int32, numpy=array([10,  7], dtype=int32)>,\n",
              " <tf.Tensor: shape=(2,), dtype=int32, numpy=array([10,  7], dtype=int32)>)"
            ]
          },
          "metadata": {},
          "execution_count": 12
        }
      ]
    },
    {
      "cell_type": "code",
      "source": [
        "#let's try change one of the elements in our changeble tensor\n",
        "##changeable_tensor[0]= 7\n",
        "##changeable_tensor\n",
        "\n",
        "#right way\n",
        "changeable_tensor[0].assign(7)\n",
        "changeable_tensor"
      ],
      "metadata": {
        "colab": {
          "base_uri": "https://localhost:8080/"
        },
        "id": "rp_-TxjjlWKa",
        "outputId": "8751c321-c396-4c9f-c733-794644c18f7a"
      },
      "execution_count": null,
      "outputs": [
        {
          "output_type": "execute_result",
          "data": {
            "text/plain": [
              "<tf.Variable 'Variable:0' shape=(2,) dtype=int32, numpy=array([7, 7], dtype=int32)>"
            ]
          },
          "metadata": {},
          "execution_count": 13
        }
      ]
    },
    {
      "cell_type": "code",
      "source": [
        "#try .assign\n",
        "changeable_tensor[0].assign(7)\n",
        "changeable_tensor"
      ],
      "metadata": {
        "colab": {
          "base_uri": "https://localhost:8080/"
        },
        "id": "Hdpke2eGluHr",
        "outputId": "d7f9eedd-ced3-4d6a-f555-31ea6d9f64ba"
      },
      "execution_count": null,
      "outputs": [
        {
          "output_type": "execute_result",
          "data": {
            "text/plain": [
              "<tf.Variable 'Variable:0' shape=(2,) dtype=int32, numpy=array([7, 7], dtype=int32)>"
            ]
          },
          "metadata": {},
          "execution_count": 14
        }
      ]
    },
    {
      "cell_type": "markdown",
      "source": [
        "# creating random tensors\n",
        "random tensors are tensors of some arbitrary size wich contains randoms numbers\n"
      ],
      "metadata": {
        "id": "f3Y2vwgomafY"
      }
    },
    {
      "cell_type": "code",
      "source": [
        "#create two random (but same tensors) tensors\n",
        "import tensorflow as tf\n",
        "\n",
        "random_1 = tf.random.Generator.from_seed(42)\n",
        "tensor_1 = random_1.normal(shape=(3, 2))\n",
        "print(\"Tensor 1:\")\n",
        "print(tensor_1)\n",
        "\n",
        "random_2 = tf.random.Generator.from_seed(42)\n",
        "tensor_2 = random_2.normal(shape=(3,2))\n",
        "print(\"Tensor 2:\")\n",
        "print(tensor_2)\n",
        "\n",
        "tensor_1 ==  tensor_2\n",
        "# cambiando il seed per entrambi avendo lo stesso valore gli array saranno completamente  uguali"
      ],
      "metadata": {
        "colab": {
          "base_uri": "https://localhost:8080/"
        },
        "id": "KxQGUMmlnert",
        "outputId": "f77042ad-68cc-40f7-c0db-2098b1e478a5"
      },
      "execution_count": null,
      "outputs": [
        {
          "output_type": "stream",
          "name": "stdout",
          "text": [
            "Tensor 1:\n",
            "tf.Tensor(\n",
            "[[-0.7565803  -0.06854702]\n",
            " [ 0.07595026 -1.2573844 ]\n",
            " [-0.23193765 -1.8107855 ]], shape=(3, 2), dtype=float32)\n",
            "Tensor 2:\n",
            "tf.Tensor(\n",
            "[[-0.7565803  -0.06854702]\n",
            " [ 0.07595026 -1.2573844 ]\n",
            " [-0.23193765 -1.8107855 ]], shape=(3, 2), dtype=float32)\n"
          ]
        },
        {
          "output_type": "execute_result",
          "data": {
            "text/plain": [
              "<tf.Tensor: shape=(3, 2), dtype=bool, numpy=\n",
              "array([[ True,  True],\n",
              "       [ True,  True],\n",
              "       [ True,  True]])>"
            ]
          },
          "metadata": {},
          "execution_count": 15
        }
      ]
    },
    {
      "cell_type": "markdown",
      "source": [
        "##shuffle the order of elements in  a tensor"
      ],
      "metadata": {
        "id": "o0pySInEpVtL"
      }
    },
    {
      "cell_type": "code",
      "source": [
        "##shuffle the order of elements in  a tensor\n",
        "not_shuffled = tf.constant([[10,7],[3,4],[2,5]])\n",
        "#shuffle our non-shuffled tensor\n",
        "tf.random.shuffle(not_shuffled)"
      ],
      "metadata": {
        "colab": {
          "base_uri": "https://localhost:8080/"
        },
        "id": "b9UYDUQ6rJae",
        "outputId": "445a9ffc-c3e9-4911-8988-0ada2a4df69c"
      },
      "execution_count": null,
      "outputs": [
        {
          "output_type": "execute_result",
          "data": {
            "text/plain": [
              "<tf.Tensor: shape=(3, 2), dtype=int32, numpy=\n",
              "array([[ 3,  4],\n",
              "       [10,  7],\n",
              "       [ 2,  5]], dtype=int32)>"
            ]
          },
          "metadata": {},
          "execution_count": 16
        }
      ]
    },
    {
      "cell_type": "code",
      "source": [
        "\n",
        "not_shuffled = tf.constant([[10,7],[3,4],[2,5]])\n",
        "tf.random.set_seed(42)#global seed\n",
        "tf.random.shuffle(not_shuffled, seed = 42)#operational seed"
      ],
      "metadata": {
        "colab": {
          "base_uri": "https://localhost:8080/"
        },
        "id": "XKRgowVNs5Uu",
        "outputId": "fa537018-68a8-43b4-94af-24b73cb95a30"
      },
      "execution_count": null,
      "outputs": [
        {
          "output_type": "execute_result",
          "data": {
            "text/plain": [
              "<tf.Tensor: shape=(3, 2), dtype=int32, numpy=\n",
              "array([[10,  7],\n",
              "       [ 3,  4],\n",
              "       [ 2,  5]], dtype=int32)>"
            ]
          },
          "metadata": {},
          "execution_count": 17
        }
      ]
    },
    {
      "cell_type": "markdown",
      "source": [
        "### other way to create tensors"
      ],
      "metadata": {
        "id": "28cMRo6Z1Qom"
      }
    },
    {
      "cell_type": "code",
      "source": [
        "#create tensor with all 1\n",
        "tensors_numPy = tf.ones([10,7])\n",
        "print(tensors_numPy)"
      ],
      "metadata": {
        "colab": {
          "base_uri": "https://localhost:8080/"
        },
        "id": "8xeOqGvU1WmY",
        "outputId": "7424ebb4-6a08-4080-d26b-af60da762674"
      },
      "execution_count": null,
      "outputs": [
        {
          "output_type": "stream",
          "name": "stdout",
          "text": [
            "tf.Tensor(\n",
            "[[1. 1. 1. 1. 1. 1. 1.]\n",
            " [1. 1. 1. 1. 1. 1. 1.]\n",
            " [1. 1. 1. 1. 1. 1. 1.]\n",
            " [1. 1. 1. 1. 1. 1. 1.]\n",
            " [1. 1. 1. 1. 1. 1. 1.]\n",
            " [1. 1. 1. 1. 1. 1. 1.]\n",
            " [1. 1. 1. 1. 1. 1. 1.]\n",
            " [1. 1. 1. 1. 1. 1. 1.]\n",
            " [1. 1. 1. 1. 1. 1. 1.]\n",
            " [1. 1. 1. 1. 1. 1. 1.]], shape=(10, 7), dtype=float32)\n"
          ]
        }
      ]
    },
    {
      "cell_type": "code",
      "source": [
        "#create tensors with all 0\n",
        "tensors_numPy0= tf.zeros([10,7])\n",
        "print(tensors_numPy0)\n",
        "tensors_numPyZero = tf.zeros(shape =(3,4))# create a tuple\n",
        "print(tensors_numPyZero)"
      ],
      "metadata": {
        "colab": {
          "base_uri": "https://localhost:8080/"
        },
        "id": "ts4xYJjk17nF",
        "outputId": "5f94a001-34be-4a85-9d6d-661f21eb65a8"
      },
      "execution_count": null,
      "outputs": [
        {
          "output_type": "stream",
          "name": "stdout",
          "text": [
            "tf.Tensor(\n",
            "[[0. 0. 0. 0. 0. 0. 0.]\n",
            " [0. 0. 0. 0. 0. 0. 0.]\n",
            " [0. 0. 0. 0. 0. 0. 0.]\n",
            " [0. 0. 0. 0. 0. 0. 0.]\n",
            " [0. 0. 0. 0. 0. 0. 0.]\n",
            " [0. 0. 0. 0. 0. 0. 0.]\n",
            " [0. 0. 0. 0. 0. 0. 0.]\n",
            " [0. 0. 0. 0. 0. 0. 0.]\n",
            " [0. 0. 0. 0. 0. 0. 0.]\n",
            " [0. 0. 0. 0. 0. 0. 0.]], shape=(10, 7), dtype=float32)\n",
            "tf.Tensor(\n",
            "[[0. 0. 0. 0.]\n",
            " [0. 0. 0. 0.]\n",
            " [0. 0. 0. 0.]], shape=(3, 4), dtype=float32)\n"
          ]
        }
      ]
    },
    {
      "cell_type": "markdown",
      "source": [
        "### turns numpy arrays into tensors\n",
        "the main difference between numpy arrays and tensorflow tensors is that tensors\n",
        "can be run on a gpu (much faster for numerical computing)"
      ],
      "metadata": {
        "id": "Hux7Q0lv3FuE"
      }
    },
    {
      "cell_type": "code",
      "source": [
        "# you can also turn numpy arrays into tensors\n",
        "import numpy as np\n",
        "\n",
        "numpy_A = np.arange(1,25,dtype= np.int32)\n",
        "numpy_A\n",
        "#x = tf.constant(some_matrix)\n",
        "#y = tf.constant(vector)"
      ],
      "metadata": {
        "colab": {
          "base_uri": "https://localhost:8080/"
        },
        "id": "CyY4EyVk2-J5",
        "outputId": "a3cf5ee7-c316-48e0-f4b9-56f99370b6ea"
      },
      "execution_count": null,
      "outputs": [
        {
          "output_type": "execute_result",
          "data": {
            "text/plain": [
              "array([ 1,  2,  3,  4,  5,  6,  7,  8,  9, 10, 11, 12, 13, 14, 15, 16, 17,\n",
              "       18, 19, 20, 21, 22, 23, 24], dtype=int32)"
            ]
          },
          "metadata": {},
          "execution_count": 20
        }
      ]
    },
    {
      "cell_type": "code",
      "source": [
        "## covert to a tensor from numpy\n",
        "## same constant just different shape the shape in this case make change also the dimension\n",
        "A = tf.constant(numpy_A, shape=(2,3,4)) #modifying shape\n",
        "print(A)\n",
        "B = tf.constant(numpy_A)\n",
        "print(B)\n",
        "print(f' {A.ndim}  this is the shape changed dimension')\n",
        "print( f' {B.ndim}  this is the not changed dimension')"
      ],
      "metadata": {
        "colab": {
          "base_uri": "https://localhost:8080/"
        },
        "id": "NNS-uNk94aPt",
        "outputId": "6ac6bb8a-9799-4e55-833b-8e2e4e9f895b"
      },
      "execution_count": null,
      "outputs": [
        {
          "output_type": "stream",
          "name": "stdout",
          "text": [
            "tf.Tensor(\n",
            "[[[ 1  2  3  4]\n",
            "  [ 5  6  7  8]\n",
            "  [ 9 10 11 12]]\n",
            "\n",
            " [[13 14 15 16]\n",
            "  [17 18 19 20]\n",
            "  [21 22 23 24]]], shape=(2, 3, 4), dtype=int32)\n",
            "tf.Tensor([ 1  2  3  4  5  6  7  8  9 10 11 12 13 14 15 16 17 18 19 20 21 22 23 24], shape=(24,), dtype=int32)\n",
            " 3  this is the shape changed dimension\n",
            " 1  this is the not changed dimension\n"
          ]
        }
      ]
    },
    {
      "cell_type": "markdown",
      "source": [
        "## getting information from tensors\n",
        "attributes\n",
        " * shapes\n",
        " * ranks\n",
        " * Axis or dimensions\n",
        " * size\n"
      ],
      "metadata": {
        "id": "Z6OtPoPF7M7Y"
      }
    },
    {
      "cell_type": "code",
      "source": [
        "## getting info from tensors\n",
        "##  crete a tensor of rank 4\n",
        "rank_4_dim = tf.zeros([ 2,3,4,5,])\n",
        "rank_4_dim"
      ],
      "metadata": {
        "colab": {
          "base_uri": "https://localhost:8080/"
        },
        "id": "TARg7EU97cdp",
        "outputId": "c0ca2094-f7f5-42a7-e521-58887671fd86"
      },
      "execution_count": null,
      "outputs": [
        {
          "output_type": "execute_result",
          "data": {
            "text/plain": [
              "<tf.Tensor: shape=(2, 3, 4, 5), dtype=float32, numpy=\n",
              "array([[[[0., 0., 0., 0., 0.],\n",
              "         [0., 0., 0., 0., 0.],\n",
              "         [0., 0., 0., 0., 0.],\n",
              "         [0., 0., 0., 0., 0.]],\n",
              "\n",
              "        [[0., 0., 0., 0., 0.],\n",
              "         [0., 0., 0., 0., 0.],\n",
              "         [0., 0., 0., 0., 0.],\n",
              "         [0., 0., 0., 0., 0.]],\n",
              "\n",
              "        [[0., 0., 0., 0., 0.],\n",
              "         [0., 0., 0., 0., 0.],\n",
              "         [0., 0., 0., 0., 0.],\n",
              "         [0., 0., 0., 0., 0.]]],\n",
              "\n",
              "\n",
              "       [[[0., 0., 0., 0., 0.],\n",
              "         [0., 0., 0., 0., 0.],\n",
              "         [0., 0., 0., 0., 0.],\n",
              "         [0., 0., 0., 0., 0.]],\n",
              "\n",
              "        [[0., 0., 0., 0., 0.],\n",
              "         [0., 0., 0., 0., 0.],\n",
              "         [0., 0., 0., 0., 0.],\n",
              "         [0., 0., 0., 0., 0.]],\n",
              "\n",
              "        [[0., 0., 0., 0., 0.],\n",
              "         [0., 0., 0., 0., 0.],\n",
              "         [0., 0., 0., 0., 0.],\n",
              "         [0., 0., 0., 0., 0.]]]], dtype=float32)>"
            ]
          },
          "metadata": {},
          "execution_count": 22
        }
      ]
    },
    {
      "cell_type": "code",
      "source": [
        "\n",
        "## how to get the information from tensors\n",
        "rank_4_dim.shape, rank_4_dim.ndim, tf.size(rank_4_dim)"
      ],
      "metadata": {
        "colab": {
          "base_uri": "https://localhost:8080/"
        },
        "id": "xiZCbw2G9NTe",
        "outputId": "db199a18-bef6-4f91-d874-3a1df1fdf69a"
      },
      "execution_count": null,
      "outputs": [
        {
          "output_type": "execute_result",
          "data": {
            "text/plain": [
              "(TensorShape([2, 3, 4, 5]), 4, <tf.Tensor: shape=(), dtype=int32, numpy=120>)"
            ]
          },
          "metadata": {},
          "execution_count": 23
        }
      ]
    },
    {
      "cell_type": "code",
      "source": [
        "## get various attributes of out tensors\n",
        "print(\"Datatype of every element:\", rank_4_dim.dtype)\n",
        "print(\"Number od dimensions(rank):\", rank_4_dim.ndim)\n",
        "print(\"Shape of tensor:\",rank_4_dim.shape)\n",
        "print(\"Elements along the 0 axis:\", rank_4_dim.shape[0])\n",
        "print(\"Elements along the last axis:\", rank_4_dim.shape[-1])\n",
        "print(\"total number of elements in out tensor:\",tf.size(rank_4_dim))\n",
        "print(\"total number of elements in out tensor:\",tf.size(rank_4_dim).numpy())"
      ],
      "metadata": {
        "colab": {
          "base_uri": "https://localhost:8080/"
        },
        "id": "t9kx78Z3-Duh",
        "outputId": "e7f1d974-ea81-468a-cb53-4df4e1e825eb"
      },
      "execution_count": null,
      "outputs": [
        {
          "output_type": "stream",
          "name": "stdout",
          "text": [
            "Datatype of every element: <dtype: 'float32'>\n",
            "Number od dimensions(rank): 4\n",
            "Shape of tensor: (2, 3, 4, 5)\n",
            "Elements along the 0 axis: 2\n",
            "Elements along the last axis: 5\n",
            "total number of elements in out tensor: tf.Tensor(120, shape=(), dtype=int32)\n",
            "total number of elements in out tensor: 120\n"
          ]
        }
      ]
    },
    {
      "cell_type": "code",
      "source": [
        "rank_4_dim[:2,:2,:2,:2]\n",
        "#get the first two elements of each dimensions\n",
        "#get the differente dimension\n",
        "rank_4_dim[:2,:,:2,:2]#this way u will see just 3 of the 4  dimension"
      ],
      "metadata": {
        "colab": {
          "base_uri": "https://localhost:8080/"
        },
        "id": "3bknJnbPBW6P",
        "outputId": "9eac7369-59f4-4885-f692-37eae8d4585c"
      },
      "execution_count": null,
      "outputs": [
        {
          "output_type": "execute_result",
          "data": {
            "text/plain": [
              "<tf.Tensor: shape=(2, 3, 2, 2), dtype=float32, numpy=\n",
              "array([[[[0., 0.],\n",
              "         [0., 0.]],\n",
              "\n",
              "        [[0., 0.],\n",
              "         [0., 0.]],\n",
              "\n",
              "        [[0., 0.],\n",
              "         [0., 0.]]],\n",
              "\n",
              "\n",
              "       [[[0., 0.],\n",
              "         [0., 0.]],\n",
              "\n",
              "        [[0., 0.],\n",
              "         [0., 0.]],\n",
              "\n",
              "        [[0., 0.],\n",
              "         [0., 0.]]]], dtype=float32)>"
            ]
          },
          "metadata": {},
          "execution_count": 25
        }
      ]
    },
    {
      "cell_type": "code",
      "source": [
        "# create a rank  2 tensor  (2dimension)\n",
        "\n",
        "rank_2_tensor= tf.constant([[10,7],[3,4],[2,5]])\n",
        "rank_2_tensor.ndim\n",
        "rank_2_tensor[:,-1]"
      ],
      "metadata": {
        "id": "avmAB2HABn5v",
        "colab": {
          "base_uri": "https://localhost:8080/"
        },
        "outputId": "506513d7-de62-469f-bd2d-8541f992f953"
      },
      "execution_count": null,
      "outputs": [
        {
          "output_type": "execute_result",
          "data": {
            "text/plain": [
              "<tf.Tensor: shape=(3,), dtype=int32, numpy=array([7, 4, 5], dtype=int32)>"
            ]
          },
          "metadata": {},
          "execution_count": 26
        }
      ]
    },
    {
      "cell_type": "code",
      "source": [
        "# add an extra dimension\n",
        "rank_3_tensor = rank_2_tensor[...,tf.newaxis]\n",
        "rank_3_tensor"
      ],
      "metadata": {
        "colab": {
          "base_uri": "https://localhost:8080/"
        },
        "id": "P02ofmmLdUII",
        "outputId": "449083ce-1227-4763-87d0-8493fd8cecf4"
      },
      "execution_count": null,
      "outputs": [
        {
          "output_type": "execute_result",
          "data": {
            "text/plain": [
              "<tf.Tensor: shape=(3, 2, 1), dtype=int32, numpy=\n",
              "array([[[10],\n",
              "        [ 7]],\n",
              "\n",
              "       [[ 3],\n",
              "        [ 4]],\n",
              "\n",
              "       [[ 2],\n",
              "        [ 5]]], dtype=int32)>"
            ]
          },
          "metadata": {},
          "execution_count": 27
        }
      ]
    },
    {
      "cell_type": "code",
      "source": [
        "tf.expand_dims(rank_2_tensor,axis=-1)# '-1' means expand the final axis\n"
      ],
      "metadata": {
        "colab": {
          "base_uri": "https://localhost:8080/"
        },
        "id": "VSYyCOsxeJGX",
        "outputId": "5f0ccdfb-8f32-46cb-a6a6-2cdb4931f803"
      },
      "execution_count": null,
      "outputs": [
        {
          "output_type": "execute_result",
          "data": {
            "text/plain": [
              "<tf.Tensor: shape=(3, 2, 1), dtype=int32, numpy=\n",
              "array([[[10],\n",
              "        [ 7]],\n",
              "\n",
              "       [[ 3],\n",
              "        [ 4]],\n",
              "\n",
              "       [[ 2],\n",
              "        [ 5]]], dtype=int32)>"
            ]
          },
          "metadata": {},
          "execution_count": 28
        }
      ]
    },
    {
      "cell_type": "markdown",
      "source": [
        "manipulating tensors with basics operations\n",
        "basic operations:\n",
        " `+` `-` `/` `*`"
      ],
      "metadata": {
        "id": "EO56eTpGgOeA"
      }
    },
    {
      "cell_type": "code",
      "source": [
        "# adding a number out tensor\n",
        "tensor = tf.constant([[10,5],[5,3]])\n",
        "print(tensor +10)\n",
        "## but the tensor is unchanged\n",
        "print(tensor)\n",
        "#use the tf builtin  functions\n",
        "print(tf.multiply(tensor,10))"
      ],
      "metadata": {
        "colab": {
          "base_uri": "https://localhost:8080/"
        },
        "id": "fdquABIMgqoI",
        "outputId": "a90bc5f2-3e8a-4cf7-a4bf-c2ea59934ef9"
      },
      "execution_count": null,
      "outputs": [
        {
          "output_type": "stream",
          "name": "stdout",
          "text": [
            "tf.Tensor(\n",
            "[[20 15]\n",
            " [15 13]], shape=(2, 2), dtype=int32)\n",
            "tf.Tensor(\n",
            "[[10  5]\n",
            " [ 5  3]], shape=(2, 2), dtype=int32)\n",
            "tf.Tensor(\n",
            "[[100  50]\n",
            " [ 50  30]], shape=(2, 2), dtype=int32)\n"
          ]
        }
      ]
    },
    {
      "cell_type": "markdown",
      "source": [
        "## metrix moltiplications\n",
        "in machine learnig, matrix multiplications is one of the most common in tensor operations"
      ],
      "metadata": {
        "id": "10zjHtJCigfX"
      }
    },
    {
      "cell_type": "code",
      "source": [
        "print(tensor)\n",
        "result = tf.matmul(tensor,tensor)\n",
        "result"
      ],
      "metadata": {
        "colab": {
          "base_uri": "https://localhost:8080/"
        },
        "id": "IdFZHRbMikLu",
        "outputId": "b017ccf9-c247-411c-ca73-cb60ba78d080"
      },
      "execution_count": null,
      "outputs": [
        {
          "output_type": "stream",
          "name": "stdout",
          "text": [
            "tf.Tensor(\n",
            "[[10  5]\n",
            " [ 5  3]], shape=(2, 2), dtype=int32)\n"
          ]
        },
        {
          "output_type": "execute_result",
          "data": {
            "text/plain": [
              "<tf.Tensor: shape=(2, 2), dtype=int32, numpy=\n",
              "array([[125,  65],\n",
              "       [ 65,  34]], dtype=int32)>"
            ]
          },
          "metadata": {},
          "execution_count": 30
        }
      ]
    },
    {
      "cell_type": "code",
      "source": [],
      "metadata": {
        "id": "WAFnaDQz9llD"
      },
      "execution_count": null,
      "outputs": []
    },
    {
      "cell_type": "code",
      "source": [
        "t = tf.constant([[1,0,2],[2,1,3],[1,0,4]])\n",
        "f = tf.constant([[2,6,1],[5,7,8],[4,8,1]])\n",
        "res= tf.matmul(t,f)\n",
        "print(res)\n",
        "## if they have differente shapes this will not work\n",
        "\n",
        "## create tensor of different shapes\n"
      ],
      "metadata": {
        "colab": {
          "base_uri": "https://localhost:8080/"
        },
        "id": "kDGTDHgBk4lm",
        "outputId": "64b25306-1539-4a74-a6f6-940149c861d2"
      },
      "execution_count": null,
      "outputs": [
        {
          "output_type": "stream",
          "name": "stdout",
          "text": [
            "tf.Tensor(\n",
            "[[10 22  3]\n",
            " [21 43 13]\n",
            " [18 38  5]], shape=(3, 3), dtype=int32)\n"
          ]
        }
      ]
    },
    {
      "cell_type": "code",
      "source": [
        "tf.tensordot(tf.transpose(t),f,axes=1 )\n",
        "# transpose  cambia l ordine del tensor e reshape ne camibia lo shape\n",
        "#perform matrix multiplication between t , f (transposed)\n",
        "tf.matmul(t,tf.transpose(f))\n",
        "#perform matrix mul between t,f (reshaped)\n",
        "tf.matmul(t ,tf.reshape(f,shape= (3,3)))\n"
      ],
      "metadata": {
        "colab": {
          "base_uri": "https://localhost:8080/"
        },
        "id": "iZlsPP1g1i2Y",
        "outputId": "012ef329-4d2a-4183-c1d1-faba92be56c8"
      },
      "execution_count": null,
      "outputs": [
        {
          "output_type": "execute_result",
          "data": {
            "text/plain": [
              "<tf.Tensor: shape=(3, 3), dtype=int32, numpy=\n",
              "array([[10, 22,  3],\n",
              "       [21, 43, 13],\n",
              "       [18, 38,  5]], dtype=int32)>"
            ]
          },
          "metadata": {},
          "execution_count": 32
        }
      ]
    },
    {
      "cell_type": "markdown",
      "source": [
        "## changing datatypeof a tensor\n",
        "puoi cabiare in  float e viceversa semplicemente specificando con tf.cast( nometensorCheVuoiCambiare, il valoreCheVuoiAssegnare) sotto trovi gli esempi bambola"
      ],
      "metadata": {
        "id": "oduKDKJo9g0q"
      }
    },
    {
      "cell_type": "code",
      "source": [
        "# creting a tensor with default datatype\n",
        "B= tf.constant ([1.7,7.4])\n",
        "B.dtype"
      ],
      "metadata": {
        "colab": {
          "base_uri": "https://localhost:8080/"
        },
        "id": "8T178rVl9tQ4",
        "outputId": "27d76787-4021-4bfb-b3ea-b0a570cd63e0"
      },
      "execution_count": null,
      "outputs": [
        {
          "output_type": "execute_result",
          "data": {
            "text/plain": [
              "tf.float32"
            ]
          },
          "metadata": {},
          "execution_count": 33
        }
      ]
    },
    {
      "cell_type": "code",
      "source": [
        "C = tf.constant([7,10])\n",
        "C.dtype"
      ],
      "metadata": {
        "colab": {
          "base_uri": "https://localhost:8080/"
        },
        "id": "d258gQik97J7",
        "outputId": "0c3e1d1c-819e-429c-d93d-9d2b6ad7fee1"
      },
      "execution_count": null,
      "outputs": [
        {
          "output_type": "execute_result",
          "data": {
            "text/plain": [
              "tf.int32"
            ]
          },
          "metadata": {},
          "execution_count": 34
        }
      ]
    },
    {
      "cell_type": "code",
      "source": [
        "# change from float 32 to 16 bit precision tensor\n",
        "B = tf.cast(B, dtype=tf.float16)\n",
        "B"
      ],
      "metadata": {
        "colab": {
          "base_uri": "https://localhost:8080/"
        },
        "id": "ByU6yl88-OWn",
        "outputId": "15d886ca-8eed-4757-e7aa-fc0fbebe8572"
      },
      "execution_count": null,
      "outputs": [
        {
          "output_type": "execute_result",
          "data": {
            "text/plain": [
              "<tf.Tensor: shape=(2,), dtype=float16, numpy=array([1.7, 7.4], dtype=float16)>"
            ]
          },
          "metadata": {},
          "execution_count": 35
        }
      ]
    },
    {
      "cell_type": "markdown",
      "source": [
        "##Aggregation tensors\n",
        "aggregazione dei tensor = da  diversi valori condensarli in valori piu piccoli\n"
      ],
      "metadata": {
        "id": "1hcPZmcP_75E"
      }
    },
    {
      "cell_type": "code",
      "source": [
        "# getting the absolute values\n",
        "D = tf.constant([-7,-10])\n",
        "print(D)\n",
        "print(tf.abs(D))# nuovo metodo che li rende positivi ritornado in numero assoluto"
      ],
      "metadata": {
        "colab": {
          "base_uri": "https://localhost:8080/"
        },
        "id": "9kyJI8F4AgNx",
        "outputId": "3e575c76-e196-48a0-89f1-54f1f526b2da"
      },
      "execution_count": null,
      "outputs": [
        {
          "output_type": "stream",
          "name": "stdout",
          "text": [
            "tf.Tensor([ -7 -10], shape=(2,), dtype=int32)\n",
            "tf.Tensor([ 7 10], shape=(2,), dtype=int32)\n"
          ]
        }
      ]
    },
    {
      "cell_type": "markdown",
      "source": [
        "* ricevere il massimo\n",
        "* il minomo di un tensor\n",
        "* find the mean of a tensor\n",
        "* get the sum of a tensor"
      ],
      "metadata": {
        "id": "Wp3_xq7KBgyj"
      }
    },
    {
      "cell_type": "code",
      "source": [
        "# crate a ransom tensor with a values between 0 and 100 of size 50\n",
        "E = tf.constant(np.random.randint(0, 100, size = 50))\n",
        "print(E)\n",
        "# find a minimum\n",
        "minimum = tf.reduce_min(E)## trovi il minimo del tensor\n",
        "print(minimum)\n",
        "maximum = tf.reduce_max(E)\n",
        "print(maximum)\n",
        "#find the mean\n",
        "mean = tf.reduce_mean(E) # trovi la media\n",
        "print(mean)\n",
        "sum = tf.reduce_sum(E)# trovi la somma di un tensor\n",
        "print(sum)\n",
        "var = tf.cast(E,dtype=tf.float64)# importante per trovare il variance e STD bisogna che il nostro input sia float e not int\n",
        "#per questo lo trsformiamo\n",
        "variance =tf.math.reduce_variance(var)\n",
        "print(variance)\n",
        "standard_dev = tf.math.reduce_std(var)#standard_deviation\n",
        "print(standard_dev)# radice quadrata di variace"
      ],
      "metadata": {
        "colab": {
          "base_uri": "https://localhost:8080/"
        },
        "id": "1Fy_e-4FBxvu",
        "outputId": "66c1bbd9-841a-41de-d631-b6782586edb2"
      },
      "execution_count": null,
      "outputs": [
        {
          "output_type": "stream",
          "name": "stdout",
          "text": [
            "tf.Tensor(\n",
            "[74 45 88 29 53 56  8 40 60 48 38 76 17 12 67 86 70  4 25 88 47  2 55  8\n",
            " 98 70 47 42 91 48  4 23 24 42  0 34 83  1 88 38 19  4 34 28  1  8  0 29\n",
            " 94 69], shape=(50,), dtype=int64)\n",
            "tf.Tensor(0, shape=(), dtype=int64)\n",
            "tf.Tensor(98, shape=(), dtype=int64)\n",
            "tf.Tensor(42, shape=(), dtype=int64)\n",
            "tf.Tensor(2115, shape=(), dtype=int64)\n",
            "tf.Tensor(885.21, shape=(), dtype=float64)\n",
            "tf.Tensor(29.75247888832122, shape=(), dtype=float64)\n"
          ]
        }
      ]
    },
    {
      "cell_type": "markdown",
      "source": [
        "## find the positional maximum and minimum"
      ],
      "metadata": {
        "id": "r7Akqdc1KPdb"
      }
    },
    {
      "cell_type": "code",
      "source": [
        "# create a new tensor to find the positional maximum an minimum\n",
        "tf.random.set_seed(42)\n",
        "F = tf.random.uniform(shape=[50])\n",
        "print(F)\n",
        "\n",
        "\n",
        "\n",
        "#find the maximum positional\n",
        "ma = tf.argmax(F)\n",
        "print(ma)#position\n",
        "# index of our largest position\n",
        "print(F[tf.argmax(F)])# il numero in questione\n",
        "\n",
        "\n",
        "#find the positional minimum\n",
        "mi = tf.argmin(F)\n",
        "print(mi)\n",
        "print(F[tf.argmin(F)])\n"
      ],
      "metadata": {
        "colab": {
          "base_uri": "https://localhost:8080/"
        },
        "id": "3NLPYyRbKYWK",
        "outputId": "ebc9ff8a-cdb8-48a7-b787-fa196032ab87"
      },
      "execution_count": null,
      "outputs": [
        {
          "output_type": "stream",
          "name": "stdout",
          "text": [
            "tf.Tensor(\n",
            "[0.6645621  0.44100678 0.3528825  0.46448255 0.03366041 0.68467236\n",
            " 0.74011743 0.8724445  0.22632635 0.22319686 0.3103881  0.7223358\n",
            " 0.13318717 0.5480639  0.5746088  0.8996835  0.00946367 0.5212307\n",
            " 0.6345445  0.1993283  0.72942245 0.54583454 0.10756552 0.6767061\n",
            " 0.6602763  0.33695042 0.60141766 0.21062577 0.8527372  0.44062173\n",
            " 0.9485276  0.23752594 0.81179297 0.5263394  0.494308   0.21612847\n",
            " 0.8457197  0.8718841  0.3083862  0.6868038  0.23764038 0.7817228\n",
            " 0.9671384  0.06870162 0.79873943 0.66028714 0.5871513  0.16461694\n",
            " 0.7381023  0.32054043], shape=(50,), dtype=float32)\n",
            "tf.Tensor(42, shape=(), dtype=int64)\n",
            "tf.Tensor(0.9671384, shape=(), dtype=float32)\n",
            "tf.Tensor(16, shape=(), dtype=int64)\n",
            "tf.Tensor(0.009463668, shape=(), dtype=float32)\n"
          ]
        }
      ]
    },
    {
      "cell_type": "markdown",
      "source": [
        "## Squeezing a tensor removing all single dimension\n"
      ],
      "metadata": {
        "id": "oVrQdhV1NuCQ"
      }
    },
    {
      "cell_type": "code",
      "source": [
        "tf.random.set_seed(42)\n",
        "G = tf.constant(tf.random.uniform(shape=[50]),shape = (1,1,1,1,50))\n",
        "print(G)\n",
        "squeeze = tf.squeeze(G)\n",
        "print(squeeze)"
      ],
      "metadata": {
        "colab": {
          "base_uri": "https://localhost:8080/"
        },
        "id": "g5CLmH6nN4LS",
        "outputId": "ebd1196e-d1bc-47b4-aa49-de788848bf00"
      },
      "execution_count": null,
      "outputs": [
        {
          "output_type": "stream",
          "name": "stdout",
          "text": [
            "tf.Tensor(\n",
            "[[[[[0.6645621  0.44100678 0.3528825  0.46448255 0.03366041 0.68467236\n",
            "     0.74011743 0.8724445  0.22632635 0.22319686 0.3103881  0.7223358\n",
            "     0.13318717 0.5480639  0.5746088  0.8996835  0.00946367 0.5212307\n",
            "     0.6345445  0.1993283  0.72942245 0.54583454 0.10756552 0.6767061\n",
            "     0.6602763  0.33695042 0.60141766 0.21062577 0.8527372  0.44062173\n",
            "     0.9485276  0.23752594 0.81179297 0.5263394  0.494308   0.21612847\n",
            "     0.8457197  0.8718841  0.3083862  0.6868038  0.23764038 0.7817228\n",
            "     0.9671384  0.06870162 0.79873943 0.66028714 0.5871513  0.16461694\n",
            "     0.7381023  0.32054043]]]]], shape=(1, 1, 1, 1, 50), dtype=float32)\n",
            "tf.Tensor(\n",
            "[0.6645621  0.44100678 0.3528825  0.46448255 0.03366041 0.68467236\n",
            " 0.74011743 0.8724445  0.22632635 0.22319686 0.3103881  0.7223358\n",
            " 0.13318717 0.5480639  0.5746088  0.8996835  0.00946367 0.5212307\n",
            " 0.6345445  0.1993283  0.72942245 0.54583454 0.10756552 0.6767061\n",
            " 0.6602763  0.33695042 0.60141766 0.21062577 0.8527372  0.44062173\n",
            " 0.9485276  0.23752594 0.81179297 0.5263394  0.494308   0.21612847\n",
            " 0.8457197  0.8718841  0.3083862  0.6868038  0.23764038 0.7817228\n",
            " 0.9671384  0.06870162 0.79873943 0.66028714 0.5871513  0.16461694\n",
            " 0.7381023  0.32054043], shape=(50,), dtype=float32)\n"
          ]
        }
      ]
    },
    {
      "cell_type": "markdown",
      "source": [
        "## One-hote encoding"
      ],
      "metadata": {
        "id": "JksS3LNbQEW5"
      }
    },
    {
      "cell_type": "code",
      "source": [
        "#create a list o indicies\n",
        "some_list = [1,2,3,4]\n",
        "tf.one_hot(some_list, depth=4)"
      ],
      "metadata": {
        "colab": {
          "base_uri": "https://localhost:8080/"
        },
        "id": "dk_Nc7z-QbvW",
        "outputId": "1929e7b6-b2a5-4947-9e1b-fa728f4c4d28"
      },
      "execution_count": null,
      "outputs": [
        {
          "output_type": "execute_result",
          "data": {
            "text/plain": [
              "<tf.Tensor: shape=(4, 4), dtype=float32, numpy=\n",
              "array([[0., 1., 0., 0.],\n",
              "       [0., 0., 1., 0.],\n",
              "       [0., 0., 0., 1.],\n",
              "       [0., 0., 0., 0.]], dtype=float32)>"
            ]
          },
          "metadata": {},
          "execution_count": 40
        }
      ]
    },
    {
      "cell_type": "code",
      "source": [
        "tf.config.list_physical_devices(\"GPU\")"
      ],
      "metadata": {
        "colab": {
          "base_uri": "https://localhost:8080/"
        },
        "id": "IgCcXOc6VoVB",
        "outputId": "4a8ab00a-0a4c-40b5-cb5b-214b7b2fd2b9"
      },
      "execution_count": null,
      "outputs": [
        {
          "output_type": "execute_result",
          "data": {
            "text/plain": [
              "[PhysicalDevice(name='/physical_device:GPU:0', device_type='GPU')]"
            ]
          },
          "metadata": {},
          "execution_count": 41
        }
      ]
    },
    {
      "cell_type": "code",
      "source": [
        "!nvidia-smi"
      ],
      "metadata": {
        "colab": {
          "base_uri": "https://localhost:8080/"
        },
        "id": "F5AqnZfHVxlt",
        "outputId": "de5dc227-2f1a-44de-954f-078ccd2f2cb7"
      },
      "execution_count": null,
      "outputs": [
        {
          "output_type": "stream",
          "name": "stdout",
          "text": [
            "Fri Jul 26 20:51:01 2024       \n",
            "+---------------------------------------------------------------------------------------+\n",
            "| NVIDIA-SMI 535.104.05             Driver Version: 535.104.05   CUDA Version: 12.2     |\n",
            "|-----------------------------------------+----------------------+----------------------+\n",
            "| GPU  Name                 Persistence-M | Bus-Id        Disp.A | Volatile Uncorr. ECC |\n",
            "| Fan  Temp   Perf          Pwr:Usage/Cap |         Memory-Usage | GPU-Util  Compute M. |\n",
            "|                                         |                      |               MIG M. |\n",
            "|=========================================+======================+======================|\n",
            "|   0  Tesla T4                       Off | 00000000:00:04.0 Off |                    0 |\n",
            "| N/A   56C    P0              30W /  70W |    107MiB / 15360MiB |      0%      Default |\n",
            "|                                         |                      |                  N/A |\n",
            "+-----------------------------------------+----------------------+----------------------+\n",
            "                                                                                         \n",
            "+---------------------------------------------------------------------------------------+\n",
            "| Processes:                                                                            |\n",
            "|  GPU   GI   CI        PID   Type   Process name                            GPU Memory |\n",
            "|        ID   ID                                                             Usage      |\n",
            "|=======================================================================================|\n",
            "+---------------------------------------------------------------------------------------+\n"
          ]
        }
      ]
    },
    {
      "cell_type": "markdown",
      "source": [
        " ## esempi di scalar vector matrix Tensor"
      ],
      "metadata": {
        "id": "d7-EEPURHABZ"
      }
    },
    {
      "cell_type": "markdown",
      "source": [
        "x = tf.constant(5)\n",
        "print(x)\n",
        "Scalar: A scalar is a single value, represented as a 0-dimensional tensor. It has no indices or axes. In TensorFlow, a scalar is represented as a tf.Tensor with shape ().\n",
        "\n"
      ],
      "metadata": {
        "id": "3ytPPALDF_zI"
      }
    },
    {
      "cell_type": "markdown",
      "source": [
        "Vector: A vector is a 1-dimensional array of values, represented as a 1-dimensional tensor. It has one index or axis. In TensorFlow, a vector is represented as a tf.Tensor with shape (n,), where n is the number of elements in the vector.\n",
        "\n",
        "Example: x = tf.constant([1, 2, 3, 4, 5]) is a vector tensor with shape (5,)."
      ],
      "metadata": {
        "id": "h9Bk33sGGoep"
      }
    },
    {
      "cell_type": "markdown",
      "source": [
        "Matrix: A matrix is a 2-dimensional array of values, represented as a 2-dimensional tensor. It has two indices or axes. In TensorFlow, a matrix is represented as a tf.Tensor with shape (m, n), where m is the number of rows and n is the number of columns.\n",
        "\n",
        "Example: x = tf.constant([[1, 2], [3, 4]]) is a matrix tensor with shape (2, 2)."
      ],
      "metadata": {
        "id": "c1Eb3yj4G3EW"
      }
    },
    {
      "cell_type": "markdown",
      "source": [
        "Tensor: A tensor is a multi-dimensional array of values, represented as a tensor with three or more indices or axes. In TensorFlow, a tensor is represented as a tf.Tensor with shape (m, n, o, ...), where m, n, o, etc. are the number of elements in each dimension.\n",
        "\n",
        "Example: x = tf.constant([[[1, 2], [3, 4]], [[5, 6], [7, 8]]]) is a tensor with shape (2, 2, 2)."
      ],
      "metadata": {
        "id": "qxqO8C0sG7Re"
      }
    },
    {
      "cell_type": "code",
      "source": [
        "W = tf.constant(10)\n",
        "print(W)\n",
        "print( tf.rank(W))\n"
      ],
      "metadata": {
        "colab": {
          "base_uri": "https://localhost:8080/"
        },
        "id": "t8EzFKKLH5EH",
        "outputId": "e08207d0-8b03-4df6-a517-6cdc4f9efc2a"
      },
      "execution_count": null,
      "outputs": [
        {
          "output_type": "stream",
          "name": "stdout",
          "text": [
            "tf.Tensor(10, shape=(), dtype=int32)\n",
            "tf.Tensor(0, shape=(), dtype=int32)\n"
          ]
        }
      ]
    },
    {
      "cell_type": "code",
      "source": [
        "tf.random.set_seed(42)\n",
        "Zero = tf.random.uniform(shape=([5,300]))\n",
        "print(Zero)\n",
        "One = tf.random.uniform(shape=([5,300]))\n",
        "print(One)\n",
        "one_transposed = tf.transpose(One)\n",
        "print(one_transposed)\n",
        "result = tf.matmul(Zero,one_transposed)\n",
        "print(result)\n",
        "res= tf.tensordot(Zero,one_transposed,axes=1)\n",
        "print(res)"
      ],
      "metadata": {
        "colab": {
          "base_uri": "https://localhost:8080/"
        },
        "id": "cPuMD4ULIpEF",
        "outputId": "30f17318-7d6d-4bda-a96b-cd6d4de246e3"
      },
      "execution_count": null,
      "outputs": [
        {
          "output_type": "stream",
          "name": "stdout",
          "text": [
            "tf.Tensor(\n",
            "[[0.6645621  0.44100678 0.3528825  ... 0.31410468 0.7593535  0.03699052]\n",
            " [0.532024   0.29129946 0.10571766 ... 0.54052293 0.31425726 0.2200619 ]\n",
            " [0.08404207 0.03614604 0.97732127 ... 0.21516645 0.9786098  0.00726748]\n",
            " [0.7396945  0.6653172  0.0787828  ... 0.7117733  0.07013571 0.9409125 ]\n",
            " [0.15861344 0.12024033 0.27218235 ... 0.8824879  0.1432488  0.44135118]], shape=(5, 300), dtype=float32)\n",
            "tf.Tensor(\n",
            "[[0.68789124 0.48447883 0.9309944  ... 0.6920762  0.33180213 0.9212563 ]\n",
            " [0.27369928 0.10631859 0.6218617  ... 0.4382149  0.30427706 0.51477313]\n",
            " [0.00920248 0.37280262 0.8177401  ... 0.56786287 0.49201214 0.9892651 ]\n",
            " [0.88608265 0.08672249 0.12160683 ... 0.91770685 0.72545695 0.8280058 ]\n",
            " [0.36690474 0.9200133  0.9646884  ... 0.69012    0.7137332  0.2584542 ]], shape=(5, 300), dtype=float32)\n",
            "tf.Tensor(\n",
            "[[0.68789124 0.27369928 0.00920248 0.88608265 0.36690474]\n",
            " [0.48447883 0.10631859 0.37280262 0.08672249 0.9200133 ]\n",
            " [0.9309944  0.6218617  0.8177401  0.12160683 0.9646884 ]\n",
            " ...\n",
            " [0.6920762  0.4382149  0.56786287 0.91770685 0.69012   ]\n",
            " [0.33180213 0.30427706 0.49201214 0.72545695 0.7137332 ]\n",
            " [0.9212563  0.51477313 0.9892651  0.8280058  0.2584542 ]], shape=(300, 5), dtype=float32)\n",
            "tf.Tensor(\n",
            "[[80.333435 73.40498  77.15961  73.98368  80.90053 ]\n",
            " [75.14637  68.80438  74.24303  71.84184  75.60205 ]\n",
            " [79.7594   75.64456  77.79758  74.748726 80.55984 ]\n",
            " [75.085266 69.06408  74.30776  72.27615  76.05667 ]\n",
            " [85.05689  74.26629  78.00687  74.886795 83.13417 ]], shape=(5, 5), dtype=float32)\n",
            "tf.Tensor(\n",
            "[[80.333435 73.40498  77.15961  73.98368  80.90053 ]\n",
            " [75.14637  68.80438  74.24303  71.84184  75.60205 ]\n",
            " [79.7594   75.64456  77.79758  74.748726 80.55984 ]\n",
            " [75.085266 69.06408  74.30776  72.27615  76.05667 ]\n",
            " [85.05689  74.26629  78.00687  74.886795 83.13417 ]], shape=(5, 5), dtype=float32)\n"
          ]
        }
      ]
    },
    {
      "cell_type": "code",
      "source": [
        "te = tf.random.uniform(shape=([244,244,3]))\n",
        "print(te,)\n"
      ],
      "metadata": {
        "colab": {
          "base_uri": "https://localhost:8080/"
        },
        "id": "pLSJ3KJrM3vF",
        "outputId": "c452a46e-b879-4613-dcfc-975231eeef54"
      },
      "execution_count": null,
      "outputs": [
        {
          "output_type": "stream",
          "name": "stdout",
          "text": [
            "tf.Tensor(\n",
            "[[[0.7413678  0.62854624 0.01738465]\n",
            "  [0.3431449  0.51063764 0.3777541 ]\n",
            "  [0.07321596 0.02137029 0.2871771 ]\n",
            "  ...\n",
            "  [0.46217704 0.8177172  0.9324174 ]\n",
            "  [0.3542608  0.8056662  0.04422152]\n",
            "  [0.21755838 0.4517957  0.48437166]]\n",
            "\n",
            " [[0.03183556 0.3801626  0.06121147]\n",
            "  [0.3073603  0.7837498  0.66695607]\n",
            "  [0.36168587 0.8880923  0.8694893 ]\n",
            "  ...\n",
            "  [0.7105495  0.20656955 0.95012224]\n",
            "  [0.8192378  0.5350205  0.29332328]\n",
            "  [0.08032727 0.10789704 0.13451433]]\n",
            "\n",
            " [[0.30395794 0.70867944 0.02875113]\n",
            "  [0.851349   0.75918424 0.9711982 ]\n",
            "  [0.2049936  0.07748234 0.6421211 ]\n",
            "  ...\n",
            "  [0.4341513  0.57926345 0.38649082]\n",
            "  [0.6188736  0.00327778 0.05403554]\n",
            "  [0.96550107 0.17174828 0.39154875]]\n",
            "\n",
            " ...\n",
            "\n",
            " [[0.56169426 0.998615   0.00484431]\n",
            "  [0.78096175 0.40864944 0.783298  ]\n",
            "  [0.09273458 0.16288245 0.6635208 ]\n",
            "  ...\n",
            "  [0.23279548 0.01078749 0.7668377 ]\n",
            "  [0.95119536 0.41704285 0.29609716]\n",
            "  [0.9946232  0.28444266 0.95502865]]\n",
            "\n",
            " [[0.89764655 0.41565382 0.81090987]\n",
            "  [0.74238694 0.74139726 0.40501583]\n",
            "  [0.22384071 0.3686551  0.7529261 ]\n",
            "  ...\n",
            "  [0.1995399  0.95744467 0.3064586 ]\n",
            "  [0.60856223 0.69818413 0.44146454]\n",
            "  [0.6762352  0.5205053  0.5678104 ]]\n",
            "\n",
            " [[0.4074062  0.44445002 0.39986897]\n",
            "  [0.18961811 0.19632733 0.39837933]\n",
            "  [0.73768926 0.19725788 0.9398018 ]\n",
            "  ...\n",
            "  [0.5169201  0.76989913 0.14810133]\n",
            "  [0.59953785 0.79186404 0.75214565]\n",
            "  [0.5419264  0.56890404 0.56671166]]], shape=(244, 244, 3), dtype=float32)\n"
          ]
        }
      ]
    },
    {
      "cell_type": "code",
      "source": [
        "print(tf.argmax(te,axis=0))\n",
        "print(tf.argmin(te,axis=0))\n",
        "print(te)\n"
      ],
      "metadata": {
        "colab": {
          "base_uri": "https://localhost:8080/"
        },
        "id": "vwfe6O6lNm3D",
        "outputId": "d2807dee-939f-4103-c365-c9afeb579c45"
      },
      "execution_count": null,
      "outputs": [
        {
          "output_type": "stream",
          "name": "stdout",
          "text": [
            "tf.Tensor(\n",
            "[[ 88 241  93]\n",
            " [118  76  68]\n",
            " [104  87  17]\n",
            " [198  85 114]\n",
            " [128  41 156]\n",
            " [ 40  69 111]\n",
            " [203 237 231]\n",
            " [201 189  27]\n",
            " [  2 156 138]\n",
            " [139  27  55]\n",
            " [182  17 144]\n",
            " [229  75 192]\n",
            " [ 48  50   3]\n",
            " [ 67 126 237]\n",
            " [108  22 201]\n",
            " [125  60 214]\n",
            " [177 176  88]\n",
            " [ 70  88 150]\n",
            " [181  93 200]\n",
            " [207 205 203]\n",
            " [ 55 191 222]\n",
            " [ 58 147 110]\n",
            " [ 26 108 103]\n",
            " [166  33 164]\n",
            " [ 35  89 216]\n",
            " [184 194  97]\n",
            " [ 36 192 243]\n",
            " [ 64  94 155]\n",
            " [103 193 173]\n",
            " [185 156 222]\n",
            " [ 16 136  36]\n",
            " [231  96 143]\n",
            " [163 158  77]\n",
            " [ 10 112 182]\n",
            " [ 32  57  16]\n",
            " [135  84  25]\n",
            " [128  17 158]\n",
            " [138 227  45]\n",
            " [ 23  43 153]\n",
            " [  9  72  27]\n",
            " [131  53 165]\n",
            " [  8 120 243]\n",
            " [153  34 225]\n",
            " [ 13  49 127]\n",
            " [107  15 138]\n",
            " [135 176  81]\n",
            " [ 78  71  55]\n",
            " [236  73 198]\n",
            " [124  24 118]\n",
            " [228 175 190]\n",
            " [195  71 118]\n",
            " [ 42  14 194]\n",
            " [207 146 170]\n",
            " [121 106  88]\n",
            " [ 57 134 192]\n",
            " [226 218   1]\n",
            " [ 45  87  94]\n",
            " [196 178 198]\n",
            " [ 18   0 188]\n",
            " [ 56 221 133]\n",
            " [123 172 208]\n",
            " [ 90 113   3]\n",
            " [142  86   2]\n",
            " [ 10  42  16]\n",
            " [198 196  30]\n",
            " [ 20 142 120]\n",
            " [198 142 231]\n",
            " [ 74 200 150]\n",
            " [  7  25 149]\n",
            " [138 145 153]\n",
            " [ 39 232  75]\n",
            " [ 46 147 115]\n",
            " [157   0 214]\n",
            " [228  48  98]\n",
            " [187  54  47]\n",
            " [156  77 225]\n",
            " [ 19  77 236]\n",
            " [146 157 194]\n",
            " [155  92 202]\n",
            " [ 63 145 235]\n",
            " [159 202 156]\n",
            " [218 127  53]\n",
            " [199 173  58]\n",
            " [ 62 159  75]\n",
            " [217 152 156]\n",
            " [  5 238 161]\n",
            " [ 52  19  43]\n",
            " [215 141 116]\n",
            " [  9 191 233]\n",
            " [162  24  29]\n",
            " [146 216 225]\n",
            " [ 55 221  76]\n",
            " [ 69 111  34]\n",
            " [241 209 133]\n",
            " [137 164   7]\n",
            " [100 157 226]\n",
            " [  2 210 154]\n",
            " [134 195 159]\n",
            " [ 78  22 185]\n",
            " [185 121  69]\n",
            " [234 234 109]\n",
            " [ 29 112  65]\n",
            " [109 204 149]\n",
            " [181  21 233]\n",
            " [ 60 140  34]\n",
            " [ 61 202  91]\n",
            " [219  11  12]\n",
            " [ 41  86  74]\n",
            " [181 168  75]\n",
            " [ 43  83   6]\n",
            " [113 128 153]\n",
            " [184  14 187]\n",
            " [194 226  23]\n",
            " [138 178  33]\n",
            " [ 75  26  42]\n",
            " [152  45 192]\n",
            " [ 72 243  54]\n",
            " [  8  58   2]\n",
            " [216 141 140]\n",
            " [ 52  30  11]\n",
            " [ 40 231  67]\n",
            " [187 188 136]\n",
            " [221 229  17]\n",
            " [146  83  26]\n",
            " [144 161   8]\n",
            " [ 73 151 163]\n",
            " [177  68 143]\n",
            " [224 242 152]\n",
            " [150 136 235]\n",
            " [151 125 169]\n",
            " [133  95 141]\n",
            " [224  20 186]\n",
            " [122 118 202]\n",
            " [ 60  64  81]\n",
            " [ 90 229  70]\n",
            " [  4  30 236]\n",
            " [  5 198  33]\n",
            " [  2 158 229]\n",
            " [198 166 138]\n",
            " [ 64 161  54]\n",
            " [208 112  50]\n",
            " [ 12 185  43]\n",
            " [172  46 193]\n",
            " [119 242 206]\n",
            " [201 139  94]\n",
            " [ 24 202 109]\n",
            " [190  90 172]\n",
            " [243  69 161]\n",
            " [  7  98  48]\n",
            " [ 75 127 234]\n",
            " [183  60 105]\n",
            " [202  12  19]\n",
            " [201 110 202]\n",
            " [144  13 115]\n",
            " [ 72  21  57]\n",
            " [ 49 178 242]\n",
            " [235 197 116]\n",
            " [ 80  20 141]\n",
            " [208 144  74]\n",
            " [198 163 208]\n",
            " [111  80  21]\n",
            " [123  58  65]\n",
            " [143 234 105]\n",
            " [ 25 111  20]\n",
            " [ 49 115   2]\n",
            " [103  58  18]\n",
            " [109  65 219]\n",
            " [ 39 178 161]\n",
            " [ 71 189 149]\n",
            " [122 133  21]\n",
            " [ 37  79 185]\n",
            " [ 49  82  57]\n",
            " [121 242 171]\n",
            " [192  43 203]\n",
            " [  0 137  78]\n",
            " [187  28 161]\n",
            " [234  79 115]\n",
            " [177 235  22]\n",
            " [115 196 181]\n",
            " [161 165 109]\n",
            " [ 73  72 206]\n",
            " [ 76 105 110]\n",
            " [208 177 198]\n",
            " [158 159  32]\n",
            " [ 93  45  92]\n",
            " [123  19   9]\n",
            " [135 202 152]\n",
            " [ 16  78  25]\n",
            " [162 187  97]\n",
            " [  2 159 211]\n",
            " [220 110  70]\n",
            " [227 192 121]\n",
            " [212 133 175]\n",
            " [  9  71 179]\n",
            " [211 174  56]\n",
            " [ 35 232 204]\n",
            " [ 54  89   4]\n",
            " [128   7  64]\n",
            " [ 78 121  47]\n",
            " [  6 205  89]\n",
            " [199  61  12]\n",
            " [173 108  76]\n",
            " [237 183  74]\n",
            " [188 113  94]\n",
            " [228 100   7]\n",
            " [ 84  68 232]\n",
            " [200  40  32]\n",
            " [208  12  47]\n",
            " [216 121 169]\n",
            " [ 81 172 166]\n",
            " [ 88 166   4]\n",
            " [ 16 164 145]\n",
            " [ 58 229 199]\n",
            " [134 216 133]\n",
            " [110 165 148]\n",
            " [241  87  84]\n",
            " [  1 145 105]\n",
            " [238  89 105]\n",
            " [120   1 154]\n",
            " [234  30 183]\n",
            " [180 153 131]\n",
            " [ 72 201  79]\n",
            " [ 99  45 211]\n",
            " [193  73 172]\n",
            " [ 33 190  77]\n",
            " [229 152 217]\n",
            " [208 136 229]\n",
            " [ 61  55 221]\n",
            " [ 80 155 108]\n",
            " [100 105  45]\n",
            " [174 118 105]\n",
            " [ 40 220 124]\n",
            " [ 35 222  12]\n",
            " [ 71 124   6]\n",
            " [ 85  76 179]\n",
            " [ 79 191 146]\n",
            " [109 131  78]\n",
            " [ 25 186  53]\n",
            " [148 100 183]\n",
            " [216 204  14]\n",
            " [ 43  93 173]\n",
            " [ 24 162  63]\n",
            " [109 101 187]\n",
            " [241 138 130]], shape=(244, 3), dtype=int64)\n",
            "tf.Tensor(\n",
            "[[ 19 217 241]\n",
            " [ 24  30  93]\n",
            " [ 81  37  50]\n",
            " [214  18 226]\n",
            " [ 84 190 158]\n",
            " [116   5  40]\n",
            " [ 61  87  37]\n",
            " [234 242  16]\n",
            " [150   1 129]\n",
            " [209 122 185]\n",
            " [216  94 132]\n",
            " [ 34 214  14]\n",
            " [205 208 124]\n",
            " [  2 114 224]\n",
            " [ 69  10 139]\n",
            " [186 108  31]\n",
            " [ 76 198  91]\n",
            " [218 230 217]\n",
            " [ 23 193 169]\n",
            " [ 24  87  99]\n",
            " [117  75  81]\n",
            " [129 121  72]\n",
            " [221  19 220]\n",
            " [167  54   6]\n",
            " [ 51 136 156]\n",
            " [  1  56  66]\n",
            " [ 77  26 231]\n",
            " [ 65  14  23]\n",
            " [154 210 133]\n",
            " [170  89 168]\n",
            " [ 67  28 174]\n",
            " [126  66 165]\n",
            " [ 58 120  22]\n",
            " [ 32  64 199]\n",
            " [  8  40 115]\n",
            " [ 15 115 108]\n",
            " [122 165 166]\n",
            " [ 54  63 166]\n",
            " [ 20 118  64]\n",
            " [ 61   5 128]\n",
            " [183 163 108]\n",
            " [  5 222 237]\n",
            " [ 83 100 220]\n",
            " [208 126 111]\n",
            " [231 155 191]\n",
            " [ 19 216  42]\n",
            " [ 93 174  42]\n",
            " [165 212  20]\n",
            " [ 26 228  98]\n",
            " [140 212  15]\n",
            " [111  72 202]\n",
            " [234  71  46]\n",
            " [221 171 221]\n",
            " [111 224   5]\n",
            " [184  38 159]\n",
            " [199  37  34]\n",
            " [145 188 243]\n",
            " [110  22 236]\n",
            " [164 117 235]\n",
            " [ 11 127   0]\n",
            " [151 210  38]\n",
            " [  1 149 106]\n",
            " [177   6 226]\n",
            " [237 103  27]\n",
            " [231 187   6]\n",
            " [ 73 155 158]\n",
            " [161  30 230]\n",
            " [200 145  44]\n",
            " [183 131 190]\n",
            " [226  12  47]\n",
            " [193 148  58]\n",
            " [111 198  52]\n",
            " [220 127 143]\n",
            " [ 74  10  94]\n",
            " [ 83 124  43]\n",
            " [238 108   1]\n",
            " [223 172 170]\n",
            " [ 69  94 163]\n",
            " [205  88  34]\n",
            " [125 221 207]\n",
            " [121  97 152]\n",
            " [ 70 209  26]\n",
            " [ 40  70  24]\n",
            " [ 77 226  74]\n",
            " [152 141 227]\n",
            " [  2  38  47]\n",
            " [123 122   4]\n",
            " [118 166  48]\n",
            " [ 18 214  42]\n",
            " [ 67 137 199]\n",
            " [ 65   4 234]\n",
            " [ 36 217  82]\n",
            " [  0 124 173]\n",
            " [ 25  23  82]\n",
            " [ 48 217 220]\n",
            " [102  46 221]\n",
            " [174 111  88]\n",
            " [130  78 210]\n",
            " [152  16   3]\n",
            " [ 41 173 131]\n",
            " [ 26  90  95]\n",
            " [201 164  51]\n",
            " [116 109  49]\n",
            " [102 166 201]\n",
            " [225 219 163]\n",
            " [ 55  50 154]\n",
            " [ 91 135 178]\n",
            " [108 239   2]\n",
            " [ 57 169   1]\n",
            " [143 108  97]\n",
            " [ 94 147  37]\n",
            " [224 164  70]\n",
            " [189 141 230]\n",
            " [237  57  43]\n",
            " [ 42 197 140]\n",
            " [147  66 239]\n",
            " [203  46 119]\n",
            " [  4 132  39]\n",
            " [225  33 176]\n",
            " [162  31 100]\n",
            " [145  14 122]\n",
            " [157 117 210]\n",
            " [209  63 150]\n",
            " [ 66 102  35]\n",
            " [224 193 171]\n",
            " [185 210 197]\n",
            " [132  99  84]\n",
            " [221  75 126]\n",
            " [181  62  58]\n",
            " [239  51 142]\n",
            " [ 85  88  60]\n",
            " [102  18 163]\n",
            " [115  52 175]\n",
            " [155 100  41]\n",
            " [ 63  71 134]\n",
            " [ 40  31  26]\n",
            " [175 150 176]\n",
            " [  3 100 145]\n",
            " [118  30  18]\n",
            " [223 107 217]\n",
            " [126  87  90]\n",
            " [166  62 207]\n",
            " [ 12 198  54]\n",
            " [212 217  55]\n",
            " [ 30 242 151]\n",
            " [182 102 121]\n",
            " [196  47 174]\n",
            " [238 169  81]\n",
            " [172 167  99]\n",
            " [240 200 231]\n",
            " [ 18 144  59]\n",
            " [ 69  91 169]\n",
            " [ 55  55 147]\n",
            " [126 147 214]\n",
            " [ 51 139 173]\n",
            " [ 81  85  87]\n",
            " [118  96 160]\n",
            " [198 171  39]\n",
            " [172 171  47]\n",
            " [230  98  58]\n",
            " [140 176  93]\n",
            " [ 75  27 215]\n",
            " [ 21  11 132]\n",
            " [138  69 145]\n",
            " [204  85 138]\n",
            " [116 206 201]\n",
            " [ 62  49 210]\n",
            " [230  83 105]\n",
            " [ 10  64  44]\n",
            " [165  89   0]\n",
            " [ 75  50  40]\n",
            " [ 55  12 123]\n",
            " [ 25 143  77]\n",
            " [ 85 105 219]\n",
            " [171 225 108]\n",
            " [134  92  25]\n",
            " [173  62 188]\n",
            " [ 83  90 161]\n",
            " [ 83  69  44]\n",
            " [ 34 163  22]\n",
            " [163 104  88]\n",
            " [ 88  53  33]\n",
            " [202 138  18]\n",
            " [237  33 174]\n",
            " [177 123 191]\n",
            " [116   3 141]\n",
            " [161 154 120]\n",
            " [168  22 219]\n",
            " [ 53 100 113]\n",
            " [104 185 173]\n",
            " [111  19 236]\n",
            " [233  51  53]\n",
            " [ 28 231 170]\n",
            " [ 35 205  95]\n",
            " [139  93 127]\n",
            " [ 89 231  95]\n",
            " [219  19 216]\n",
            " [151 106 231]\n",
            " [ 83 106  77]\n",
            " [ 98  42 175]\n",
            " [107  23  89]\n",
            " [206  69  59]\n",
            " [202  25 207]\n",
            " [200 163 121]\n",
            " [240 137  12]\n",
            " [210  18  20]\n",
            " [119 121  75]\n",
            " [167 107 149]\n",
            " [ 61 141 206]\n",
            " [194 123 228]\n",
            " [177 143  80]\n",
            " [133 205 191]\n",
            " [229 200  33]\n",
            " [148 114 138]\n",
            " [145 188  17]\n",
            " [123  47 206]\n",
            " [108 149 237]\n",
            " [235 102  25]\n",
            " [ 28 168 161]\n",
            " [134 208  98]\n",
            " [ 50  32  93]\n",
            " [ 89 119  33]\n",
            " [ 20 123 139]\n",
            " [221 163   4]\n",
            " [136 235  96]\n",
            " [ 23  42  87]\n",
            " [ 42 145 101]\n",
            " [146 234  62]\n",
            " [126 166 135]\n",
            " [154 144 236]\n",
            " [ 63 137  49]\n",
            " [173 181 214]\n",
            " [156 182 189]\n",
            " [123  38   2]\n",
            " [181 230 187]\n",
            " [221 165  64]\n",
            " [ 18  35 213]\n",
            " [206  37 109]\n",
            " [ 98  41  12]\n",
            " [227   1 223]\n",
            " [156  37 166]\n",
            " [ 26 103 218]\n",
            " [123 184  80]\n",
            " [179 160 116]], shape=(244, 3), dtype=int64)\n",
            "tf.Tensor(\n",
            "[[[0.7413678  0.62854624 0.01738465]\n",
            "  [0.3431449  0.51063764 0.3777541 ]\n",
            "  [0.07321596 0.02137029 0.2871771 ]\n",
            "  ...\n",
            "  [0.46217704 0.8177172  0.9324174 ]\n",
            "  [0.3542608  0.8056662  0.04422152]\n",
            "  [0.21755838 0.4517957  0.48437166]]\n",
            "\n",
            " [[0.03183556 0.3801626  0.06121147]\n",
            "  [0.3073603  0.7837498  0.66695607]\n",
            "  [0.36168587 0.8880923  0.8694893 ]\n",
            "  ...\n",
            "  [0.7105495  0.20656955 0.95012224]\n",
            "  [0.8192378  0.5350205  0.29332328]\n",
            "  [0.08032727 0.10789704 0.13451433]]\n",
            "\n",
            " [[0.30395794 0.70867944 0.02875113]\n",
            "  [0.851349   0.75918424 0.9711982 ]\n",
            "  [0.2049936  0.07748234 0.6421211 ]\n",
            "  ...\n",
            "  [0.4341513  0.57926345 0.38649082]\n",
            "  [0.6188736  0.00327778 0.05403554]\n",
            "  [0.96550107 0.17174828 0.39154875]]\n",
            "\n",
            " ...\n",
            "\n",
            " [[0.56169426 0.998615   0.00484431]\n",
            "  [0.78096175 0.40864944 0.783298  ]\n",
            "  [0.09273458 0.16288245 0.6635208 ]\n",
            "  ...\n",
            "  [0.23279548 0.01078749 0.7668377 ]\n",
            "  [0.95119536 0.41704285 0.29609716]\n",
            "  [0.9946232  0.28444266 0.95502865]]\n",
            "\n",
            " [[0.89764655 0.41565382 0.81090987]\n",
            "  [0.74238694 0.74139726 0.40501583]\n",
            "  [0.22384071 0.3686551  0.7529261 ]\n",
            "  ...\n",
            "  [0.1995399  0.95744467 0.3064586 ]\n",
            "  [0.60856223 0.69818413 0.44146454]\n",
            "  [0.6762352  0.5205053  0.5678104 ]]\n",
            "\n",
            " [[0.4074062  0.44445002 0.39986897]\n",
            "  [0.18961811 0.19632733 0.39837933]\n",
            "  [0.73768926 0.19725788 0.9398018 ]\n",
            "  ...\n",
            "  [0.5169201  0.76989913 0.14810133]\n",
            "  [0.59953785 0.79186404 0.75214565]\n",
            "  [0.5419264  0.56890404 0.56671166]]], shape=(244, 244, 3), dtype=float32)\n"
          ]
        }
      ]
    }
  ]
}